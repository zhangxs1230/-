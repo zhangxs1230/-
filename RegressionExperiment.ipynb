{
 "cells": [
  {
   "cell_type": "code",
   "execution_count": 1,
   "metadata": {},
   "outputs": [
    {
     "data": {
      "image/png": "[encoded data removed]",
      "text/plain": [
       "<matplotlib.figure.Figure at 0x1ef9b421f28>"
      ]
     },
     "metadata": {},
     "output_type": "display_data"
    }
   ],
   "source": [
    "# -*- coding: utf-8 -*-\n",
    "\n",
    "# Required Packages\n",
    "import matplotlib.pyplot as plt\n",
    "import numpy as np\n",
    "from sklearn.datasets import load_svmlight_file\n",
    "from sklearn.model_selection import train_test_split\n",
    "\n",
    "X,y = load_svmlight_file(\"housing_scale.txt\")\n",
    "toappend = np.ones([X.shape[0],1])\n",
    "X = X.toarray()\n",
    "X = np.hstack((X,toappend))\n",
    "y = y.reshape((y.shape[0],1))\n",
    "X_train,X_test,y_train,y_test = train_test_split(X,y,test_size=0.3,random_state=4)\n",
    "\n",
    "n = X_train.shape[0]\n",
    "m = X_train.shape[1]\n",
    "\n",
    "def loss_func(X,y,W):\n",
    "    n_ = y.shape[0]\n",
    "    X = X.reshape((n_,m))\n",
    "    y = y.reshape((n_,1))\n",
    "    W = W.reshape((m,1))\n",
    "    M = y - X.dot(W)\n",
    "    loss_ = (M.T.dot(M)/2/n_)[0][0]\n",
    "    return loss_\n",
    "\n",
    "def gradient(X,y,W):\n",
    "    X = X.reshape((n,m))\n",
    "    y = y.reshape((n,1))\n",
    "    W = W.reshape((m,1))\n",
    "    return (-X.T.dot(y)+X.T.dot(X).dot(W))\n",
    "\n",
    "W = np.zeros([m,1])\n",
    "\n",
    "learn_rate = 0.0001\n",
    "loss_train = []\n",
    "loss_test = []\n",
    "for i in range(100):\n",
    "    G = gradient(X_train,y_train,W)\n",
    "    W = W-learn_rate*G\n",
    "    loss_train.append(loss_func(X_train,y_train,W))\n",
    "    loss_test.append(loss_func(X_test,y_test,W))\n",
    "\n",
    "plt.plot(loss_train,label = 'train')\n",
    "plt.plot(loss_test, label = 'test' )\n",
    "plt.legend(loc='upper right')\n",
    "plt.show()\n"
   ]
  },
  {
   "cell_type": "code",
   "execution_count": null,
   "metadata": {},
   "outputs": [],
   "source": []
  }
 ],
 "metadata": {
  "kernelspec": {
   "display_name": "Python 3",
   "language": "python",
   "name": "python3"
  },
  "language_info": {
   "codemirror_mode": {
    "name": "ipython",
    "version": 3
   },
   "file_extension": ".py",
   "mimetype": "text/x-python",
   "name": "python",
   "nbconvert_exporter": "python",
   "pygments_lexer": "ipython3",
   "version": "3.6.2"
  }
 },
 "nbformat": 4,
 "nbformat_minor": 2
}
