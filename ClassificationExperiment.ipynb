{
 "cells": [
  {
   "cell_type": "code",
   "execution_count": 4,
   "metadata": {},
   "outputs": [
    {
     "name": "stdout",
     "output_type": "stream",
     "text": [
      "training started\n",
      "training finished\n"
     ]
    },
    {
     "data": {
      "image/png": "[encoded data removed]",
      "text/plain": [
       "<matplotlib.figure.Figure at 0x2179382abe0>"
      ]
     },
     "metadata": {},
     "output_type": "display_data"
    }
   ],
   "source": [
    "# -*- coding: utf-8 -*-\n",
    "\n",
    "# Required Packages\n",
    "import matplotlib.pyplot as plt\n",
    "import numpy as np\n",
    "from sklearn.datasets import load_svmlight_file\n",
    "from sklearn.model_selection import train_test_split\n",
    "\n",
    "X,y = load_svmlight_file(\"australian_scale.txt\")\n",
    "toappend = np.ones([X.shape[0],1])\n",
    "X = X.toarray()\n",
    "X = np.hstack((X,toappend))\n",
    "y = y.reshape((y.shape[0],1))\n",
    "X_train, X_test, y_train, y_test = train_test_split(X,y,test_size=0.3)\n",
    "\n",
    "n = X_train.shape[0]\n",
    "m = X_train.shape[1]\n",
    "\n",
    "def loss_func(X,y,W,C):\n",
    "    loss_ = 0.0\n",
    "    n,m = np.shape(X)\n",
    "    for i in range(n):\n",
    "        loss_ += max(0,1-y[i]*W.T.dot(X[i]))\n",
    "    loss_ = loss_/n*C\n",
    "    loss_ += (W.T.dot(W)[0][0]/n/2)\n",
    "    return loss_\n",
    "\n",
    "def gradient(X,y,W,C):\n",
    "    n,m = X.shape\n",
    "    M = np.zeros([n,1])\n",
    "    for i in range(n):\n",
    "        if 1-y[i]*(W.T.dot(X[i])) >= 0:\n",
    "            M[i][0] = 1\n",
    "    y_ = M*y\n",
    "    return (W-C*X.T.dot(y_))/n\n",
    "\n",
    "W = np.zeros([m,1])\n",
    "\n",
    "learn_rate = 0.0005\n",
    "C = 10\n",
    "loss_train = []\n",
    "loss_test = []\n",
    "print ('training started')\n",
    "for i in range(1000):\n",
    "    G = gradient(X_train,y_train,W,C)\n",
    "    W = W-learn_rate*G\n",
    "    loss_train.append(loss_func(X_train,y_train,W,C))\n",
    "    loss_test.append(loss_func(X_test,y_test,W,C))\n",
    "print ('training finished')\n",
    "\n",
    "plt.plot(loss_train,label = 'train')\n",
    "plt.plot(loss_test, label = 'test' )\n",
    "plt.legend(loc='upper right')\n",
    "plt.show()\n"
   ]
  },
  {
   "cell_type": "code",
   "execution_count": null,
   "metadata": {},
   "outputs": [],
   "source": []
  },
  {
   "cell_type": "code",
   "execution_count": null,
   "metadata": {},
   "outputs": [],
   "source": []
  }
 ],
 "metadata": {
  "kernelspec": {
   "display_name": "Python 3",
   "language": "python",
   "name": "python3"
  },
  "language_info": {
   "codemirror_mode": {
    "name": "ipython",
    "version": 3
   },
   "file_extension": ".py",
   "mimetype": "text/x-python",
   "name": "python",
   "nbconvert_exporter": "python",
   "pygments_lexer": "ipython3",
   "version": "3.6.2"
  }
 },
 "nbformat": 4,
 "nbformat_minor": 2
}
